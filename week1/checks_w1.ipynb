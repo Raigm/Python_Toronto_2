{
 "cells": [
  {
   "cell_type": "code",
   "execution_count": 11,
   "metadata": {},
   "outputs": [
    {
     "name": "stdout",
     "output_type": "stream",
     "text": [
      "True\n",
      "True\n",
      "True\n"
     ]
    }
   ],
   "source": [
    "#1\n",
    "def is_palindrome_v3_1(s):\n",
    "    \"\"\" (str) -> bool\n",
    "\n",
    "   Return True if and only if s is a palindrome.\n",
    "   \n",
    "   >>> is_palindrome_v3('noon')\n",
    "   True\n",
    "   >>> is_palindrome_v3('racecar')\n",
    "   True\n",
    "   >>> is_palindrome_v3('dented')\n",
    "   False\n",
    "   \"\"\"\n",
    "    for i in range(len(s) // 2 + 1):\n",
    "        if s[i] != s[len(s) - i - 1]:\n",
    "            return False\n",
    "    return True\n",
    "\n",
    "def is_palindrome_v3_2(s):\n",
    "    \"\"\" (str) -> bool\n",
    "\n",
    "   Return True if and only if s is a palindrome.\n",
    "   \n",
    "   >>> is_palindrome_v3('noon')\n",
    "   True\n",
    "   >>> is_palindrome_v3('racecar')\n",
    "   True\n",
    "   >>> is_palindrome_v3('dented')\n",
    "   False\n",
    "   \"\"\"\n",
    "    for i in range(len(s) // 2):\n",
    "        if s[i] != s[len(s) - i - 1]:\n",
    "            return False\n",
    "\n",
    "    return True\n",
    "\n",
    "def is_palindrome_v3_3(s):\n",
    "    \"\"\" (str) -> bool\n",
    "\n",
    "   Return True if and only if s is a palindrome.\n",
    "   \n",
    "   >>> is_palindrome_v3('noon')\n",
    "   True\n",
    "   >>> is_palindrome_v3('racecar')\n",
    "   True\n",
    "   >>> is_palindrome_v3('dented')\n",
    "   False\n",
    "       \"\"\"\n",
    "    for i in range(len(s) // 2):\n",
    "        if s[i] != s[len(s) - i]:\n",
    "            return False\n",
    "\n",
    "    return True\n",
    "\n",
    "\n",
    "def is_palindrome_v3_4(s):\n",
    "    \"\"\" (str) -> bool\n",
    "\n",
    "   Return True if and only if s is a palindrome.\n",
    "   \n",
    "   >>> is_palindrome_v3('noon')\n",
    "   True\n",
    "   >>> is_palindrome_v3('racecar')\n",
    "   True\n",
    "   >>> is_palindrome_v3('dented')\n",
    "   False\n",
    "           \"\"\"\n",
    "    j = len(s) - 1\n",
    "    for i in range(len(s) // 2):\n",
    "          if s[i] != s[j - i]:\n",
    "            return False\n",
    "\n",
    "    return True\n",
    "\n",
    "print(is_palindrome_v3_1(\"kayak\"))\n",
    "print(is_palindrome_v3_2(\"racecar\"))\n",
    "# print(is_palindrome_v3_3(\"kayak\"))\n",
    "print(is_palindrome_v3_4(\"kayak\"))"
   ]
  },
  {
   "cell_type": "code",
   "execution_count": 15,
   "metadata": {},
   "outputs": [
    {
     "data": {
      "text/plain": [
       "''"
      ]
     },
     "execution_count": 15,
     "metadata": {},
     "output_type": "execute_result"
    }
   ],
   "source": [
    "digits = \"\"\n",
    "s=\"hola\"\n",
    "for ch in s:\n",
    "    if ch.isdigit():\n",
    "        digits = digits + ch\n",
    "digits"
   ]
  },
  {
   "cell_type": "code",
   "execution_count": 17,
   "metadata": {},
   "outputs": [
    {
     "data": {
      "text/plain": [
       "''"
      ]
     },
     "execution_count": 17,
     "metadata": {},
     "output_type": "execute_result"
    }
   ],
   "source": [
    "digits = ''\n",
    "s= \"hola\"\n",
    "\n",
    "for i in range(len(s)):\n",
    "    if s[i].isdigit():\n",
    "        digits = digits + s[i]\n",
    "        \n",
    "digits"
   ]
  },
  {
   "cell_type": "code",
   "execution_count": 1,
   "metadata": {},
   "outputs": [],
   "source": [
    "name_to_rating = {\n",
    "  'Deep Fried Everything': 52, \n",
    "  'Georgie Porgie': 87,\n",
    "  'Mexican Grill': 85, \n",
    "  'Dumplings R Us': 71, \n",
    "  'Queen St. Cafe': 82}\n",
    "\n",
    "price_to_names = {\n",
    "  '$$': ['Mexican Grill'], \n",
    "  '$': ['Queen St. Cafe', 'Dumplings R Us', 'Deep Fried Everything'], \n",
    "  '$$$': ['Georgie Porgie'],\n",
    "  '$$$$': []}\n",
    "\n",
    "cuisine_to_names = {\n",
    "  'Pub Food': ['Georgie Porgie', 'Deep Fried Everything'],\n",
    "  'Thai': ['Queen St. Cafe'], \n",
    "  'Chinese': ['Dumplings R Us'],\n",
    "  'Malaysian': ['Queen St. Cafe'], \n",
    "  'Canadian': ['Georgie Porgie'],\n",
    "  'Mexican': ['Mexican Grill']}"
   ]
  },
  {
   "cell_type": "code",
   "execution_count": 5,
   "metadata": {},
   "outputs": [
    {
     "data": {
      "text/plain": [
       "['Queen St. Cafe', 'Dumplings R Us', 'Deep Fried Everything']"
      ]
     },
     "execution_count": 5,
     "metadata": {},
     "output_type": "execute_result"
    }
   ],
   "source": [
    "name_to_rating[\"Mexican Grill\"]\n",
    "price_to_names[\"$\"]"
   ]
  }
 ],
 "metadata": {
  "kernelspec": {
   "display_name": "Python 3",
   "language": "python",
   "name": "python3"
  },
  "language_info": {
   "codemirror_mode": {
    "name": "ipython",
    "version": 3
   },
   "file_extension": ".py",
   "mimetype": "text/x-python",
   "name": "python",
   "nbconvert_exporter": "python",
   "pygments_lexer": "ipython3",
   "version": "3.7.4"
  }
 },
 "nbformat": 4,
 "nbformat_minor": 2
}
