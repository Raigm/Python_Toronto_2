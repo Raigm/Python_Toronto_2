{
 "cells": [
  {
   "cell_type": "code",
   "execution_count": null,
   "metadata": {},
   "outputs": [],
   "source": [
    "from get_divisors import get_divisors\n",
    "print(get_divisors(4, [-2, 1, 2]))"
   ]
  },
  {
   "cell_type": "code",
   "execution_count": null,
   "metadata": {},
   "outputs": [],
   "source": [
    "from _vowels import *\n",
    "collect_vowels('Happy Anniversary!')"
   ]
  },
  {
   "cell_type": "code",
   "execution_count": null,
   "metadata": {},
   "outputs": [],
   "source": [
    "import math\n",
    "people = 51\n",
    "\n",
    "math.ceil(people/50)"
   ]
  },
  {
   "cell_type": "code",
   "execution_count": null,
   "metadata": {},
   "outputs": [],
   "source": [
    "def stock_price_summary(price_changes):\n",
    "    gains = []\n",
    "    losses = []\n",
    "    gain_losses = []\n",
    "    for p in price_changes:\n",
    "        if p > 0:\n",
    "            gains.append(p)\n",
    "        else:\n",
    "            losses.append(p)\n",
    "    gain_losses.append(sum(gains))\n",
    "    gain_losses.append(sum(losses))\n",
    "    return tuple(gain_losses)"
   ]
  },
  {
   "cell_type": "code",
   "execution_count": null,
   "metadata": {},
   "outputs": [],
   "source": [
    "price_changes = [0.01, 0.03, -0.02, -0.14, 0, 0, 0.10, -0.01]\n",
    "stock_price_summary(price_changes)"
   ]
  },
  {
   "cell_type": "code",
   "execution_count": 22,
   "metadata": {},
   "outputs": [
    {
     "data": {
      "text/plain": [
       "[4, 5, 6, 1, 2, 3]"
      ]
     },
     "execution_count": 22,
     "metadata": {},
     "output_type": "execute_result"
    }
   ],
   "source": [
    "#Swap the first k items of L with the last k items of L\n",
    "L = [1, 2, 3, 4, 5, 6]\n",
    "new_list = []\n",
    "k = 3\n",
    "if k <= int(len(L))/2:\n",
    "    for i in L[-k:]:\n",
    "        new_list.append(i)\n",
    "    for i in L[k:-k]:\n",
    "        new_list.append(i)\n",
    "    for i in L[:k]:\n",
    "        new_list.append(i)\n",
    "else:\n",
    "    print(\"k must be lower\")\n",
    "\n",
    "new_list"
   ]
  },
  {
   "cell_type": "code",
   "execution_count": 24,
   "metadata": {},
   "outputs": [
    {
     "data": {
      "text/plain": [
       "[1, 2, 3, 4, 5, 6]"
      ]
     },
     "execution_count": 24,
     "metadata": {},
     "output_type": "execute_result"
    }
   ],
   "source": [
    "L = [1, 2, 3, 4, 5, 6]\n",
    "k = 6\n",
    "L[0:k],L[-k:] = L[-k:],L[0:k]\n",
    "L"
   ]
  },
  {
   "cell_type": "code",
   "execution_count": 33,
   "metadata": {},
   "outputs": [
    {
     "data": {
      "text/plain": [
       "[3, 4]"
      ]
     },
     "execution_count": 33,
     "metadata": {},
     "output_type": "execute_result"
    }
   ],
   "source": [
    "nums[k:-k]"
   ]
  },
  {
   "cell_type": "code",
   "execution_count": 12,
   "metadata": {},
   "outputs": [
    {
     "data": {
      "text/plain": [
       "6"
      ]
     },
     "execution_count": 12,
     "metadata": {},
     "output_type": "execute_result"
    }
   ],
   "source": [
    "len(nums)"
   ]
  },
  {
   "cell_type": "code",
   "execution_count": 25,
   "metadata": {},
   "outputs": [
    {
     "data": {
      "text/plain": [
       "0"
      ]
     },
     "execution_count": 25,
     "metadata": {},
     "output_type": "execute_result"
    }
   ],
   "source": [
    "from assignment.a1 import *\n",
    "\n",
    "num_buses(0)b"
   ]
  },
  {
   "cell_type": "code",
   "execution_count": 28,
   "metadata": {},
   "outputs": [
    {
     "data": {
      "text/plain": [
       "0"
      ]
     },
     "execution_count": 28,
     "metadata": {},
     "output_type": "execute_result"
    }
   ],
   "source": [
    "import assignment.a1\n",
    "\n",
    "num_buses(0)"
   ]
  },
  {
   "cell_type": "code",
   "execution_count": 2,
   "metadata": {},
   "outputs": [
    {
     "data": {
      "text/plain": [
       "(0.14, -0.17)"
      ]
     },
     "execution_count": 2,
     "metadata": {},
     "output_type": "execute_result"
    }
   ],
   "source": [
    "from assignment.a1 import *\n",
    "\n",
    "price_changes = [0.01, 0.03, -0.02, -0.14, 0, 0, 0.10, -0.01]\n",
    "stock_price_summary(price_changes)"
   ]
  },
  {
   "cell_type": "code",
   "execution_count": 4,
   "metadata": {},
   "outputs": [
    {
     "data": {
      "text/plain": [
       "[4, 5, 3, 1, 2]"
      ]
     },
     "execution_count": 4,
     "metadata": {},
     "output_type": "execute_result"
    }
   ],
   "source": [
    "from assignment.a1 import *\n",
    "nums = [1, 2, 3, 4, 5]\n",
    "swap_k(nums,int(len(nums)/2))"
   ]
  },
  {
   "cell_type": "code",
   "execution_count": 3,
   "metadata": {},
   "outputs": [
    {
     "data": {
      "text/plain": [
       "[4, 5, 6, 1, 2, 3]"
      ]
     },
     "execution_count": 3,
     "metadata": {},
     "output_type": "execute_result"
    }
   ],
   "source": [
    "from assignment.a1 import *\n",
    "nums = [1, 2, 3, 4, 5, 6]\n",
    "swap_k(nums, 3)"
   ]
  }
 ],
 "metadata": {
  "kernelspec": {
   "display_name": "Python 3",
   "language": "python",
   "name": "python3"
  },
  "language_info": {
   "codemirror_mode": {
    "name": "ipython",
    "version": 3
   },
   "file_extension": ".py",
   "mimetype": "text/x-python",
   "name": "python",
   "nbconvert_exporter": "python",
   "pygments_lexer": "ipython3",
   "version": "3.7.4"
  }
 },
 "nbformat": 4,
 "nbformat_minor": 2
}
